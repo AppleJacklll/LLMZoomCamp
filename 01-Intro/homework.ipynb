{
 "cells": [
  {
   "cell_type": "code",
   "execution_count": null,
   "id": "8e6c6295-cf06-4765-95a8-c9bfde9d72a1",
   "metadata": {},
   "outputs": [],
   "source": [
    "from groq import Groq"
   ]
  },
  {
   "cell_type": "code",
   "execution_count": null,
   "id": "8900d6c9-6b0b-4178-8397-fa469dfb71ec",
   "metadata": {},
   "outputs": [],
   "source": [
    "client =  Groq()"
   ]
  },
  {
   "cell_type": "code",
   "execution_count": 8,
   "id": "2da93e4f-cc95-4f65-9bad-cb70a8533b4b",
   "metadata": {},
   "outputs": [
    {
     "name": "stdout",
     "output_type": "stream",
     "text": [
      "I'm happy to help you with your question! However, I need a bit more information from you. Could you please provide some context or clarify which course you're referring to? Are you talking about an online course, a university course, or a professional training program?\n",
      "\n",
      "Additionally, what do you mean by \"is it too late to join the course\"? Are you concerned about missing a deadline, or are you wondering if the course is still available for registration?\n",
      "\n",
      "Please provide more details, and I'll do my best to assist you!\n"
     ]
    }
   ],
   "source": [
    "chat_completion = client.chat.completions.create(\n",
    "    model=\"llama3-70b-8192\",\n",
    "    messages=[\n",
    "        {\n",
    "            \"role\": \"user\",\n",
    "            \"content\": \"Is it too late to join the course\",\n",
    "        }\n",
    "    ],\n",
    ")\n",
    "\n",
    "print(chat_completion.choices[0].message.content)"
   ]
  },
  {
   "cell_type": "code",
   "execution_count": null,
   "id": "3e164a45-6ceb-486d-8939-a54674784db6",
   "metadata": {},
   "outputs": [],
   "source": []
  }
 ],
 "metadata": {
  "kernelspec": {
   "display_name": "Python 3 (ipykernel)",
   "language": "python",
   "name": "python3"
  },
  "language_info": {
   "codemirror_mode": {
    "name": "ipython",
    "version": 3
   },
   "file_extension": ".py",
   "mimetype": "text/x-python",
   "name": "python",
   "nbconvert_exporter": "python",
   "pygments_lexer": "ipython3",
   "version": "3.10.13"
  }
 },
 "nbformat": 4,
 "nbformat_minor": 5
}
